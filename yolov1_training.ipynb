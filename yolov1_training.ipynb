{
 "cells": [
  {
   "cell_type": "markdown",
   "metadata": {},
   "source": [
    "# [Open in Google Colab](https://colab.research.google.com/github/Jechen00/yolov1-pytorch/blob/main/yolov1_training.ipynb)"
   ]
  },
  {
   "cell_type": "markdown",
   "metadata": {
    "id": "jbCpatOTVvpb"
   },
   "source": [
    "# Packages and Dependencies\n"
   ]
  },
  {
   "cell_type": "code",
   "execution_count": 1,
   "metadata": {
    "colab": {
     "base_uri": "https://localhost:8080/"
    },
    "executionInfo": {
     "elapsed": 5659,
     "status": "ok",
     "timestamp": 1748851615102,
     "user": {
      "displayName": "Jeff Chen",
      "userId": "00200476813761072778"
     },
     "user_tz": 420
    },
    "id": "Y9wIp26gVr3y",
    "outputId": "c6ee737a-931b-48be-f997-0433655cf1e5"
   },
   "outputs": [
    {
     "name": "stdout",
     "output_type": "stream",
     "text": [
      "\u001b[1mDevice:\u001b[0m cuda\n",
      "\u001b[1mCPU count:\u001b[0m 12\n"
     ]
    }
   ],
   "source": [
    "from IPython.display import clear_output\n",
    "import torch\n",
    "import os, sys\n",
    "import random\n",
    "\n",
    "# Importing torchmetrics\n",
    "try:\n",
    "  import torchmetrics\n",
    "except:\n",
    "  print('\\033[1m[ALERT]\\033[0m torchmetrics not found. Installing with pip...')\n",
    "  !pip install torchmetrics\n",
    "\n",
    "\n",
    "# Importing github modules\n",
    "try:\n",
    "  from src import constants, data_setup, models, evaluate, loss, engine\n",
    "  from src.utils import misc, plot\n",
    "\n",
    "except:\n",
    "  print('\\033[1m[ALERT]\\033[0m Modules not found. Cloning from GitHub...')\n",
    "  !git clone https://github.com/Jechen00/yolov1-pytorch.git\n",
    "\n",
    "  # print('\\033[1m[ALERT]\\033[0m Installing package requirements...')\n",
    "  # !pip install -r ./yolov1-pytorch/requirements.txt\n",
    "\n",
    "  sys.path.append(os.path.abspath('./yolov1-pytorch'))\n",
    "  from src import constants, data_setup, models, evaluate, loss, engine\n",
    "  from src.utils import misc, plot\n",
    "\n",
    "clear_output(wait = True) # Clear the cluttered output after setup\n",
    "print(f'\\033[1mDevice:\\033[0m {constants.DEVICE}')\n",
    "print(f'\\033[1mCPU count:\\033[0m {os.cpu_count()}')\n",
    "\n",
    "misc.set_seed(6) # Set seed for reproducibility"
   ]
  },
  {
   "cell_type": "markdown",
   "metadata": {
    "id": "98KFIpROa17e"
   },
   "source": [
    "# YOLOv1 Model"
   ]
  },
  {
   "cell_type": "code",
   "execution_count": 2,
   "metadata": {
    "executionInfo": {
     "elapsed": 679,
     "status": "ok",
     "timestamp": 1748851615785,
     "user": {
      "displayName": "Jeff Chen",
      "userId": "00200476813761072778"
     },
     "user_tz": 420
    },
    "id": "i_yBXEyoa1cf"
   },
   "outputs": [],
   "source": [
    "# Configs\n",
    "S, B, C = 7, 2, 20\n",
    "DROP_PROB = 0.5\n",
    "INCLUDE_BN = True\n",
    "\n",
    "# Creating model\n",
    "backbone = models.build_resnet50_backbone()\n",
    "yolov1 = models.YOLOv1(backbone = backbone,\n",
    "                       S = S, B = B, C = C,\n",
    "                       drop_prob = DROP_PROB,\n",
    "                       include_bn = INCLUDE_BN)\n",
    "yolov1 = yolov1.to(constants.DEVICE)\n",
    "# yolov1 = torch.compile(yolov1) # Note: The current saved model in ./saved_models wasn't trained with compile"
   ]
  },
  {
   "cell_type": "markdown",
   "metadata": {
    "id": "saLiASpWauAu"
   },
   "source": [
    "# Dataloaders"
   ]
  },
  {
   "cell_type": "code",
   "execution_count": 24,
   "metadata": {
    "executionInfo": {
     "elapsed": 40,
     "status": "ok",
     "timestamp": 1748853963130,
     "user": {
      "displayName": "Jeff Chen",
      "userId": "00200476813761072778"
     },
     "user_tz": 420
    },
    "id": "gvka5s0EaxFF"
   },
   "outputs": [],
   "source": [
    "# Configs\n",
    "ACCUM_BATCH_SIZE = 64 # Used in YOLOv1 paper\n",
    "BATCH_SIZE = 32 # If lower batch_size needed to prevent OOM\n",
    "NUM_WORKERS = 10\n",
    "\n",
    "# Creating dataloaders\n",
    "train_loader, val_loader = data_setup.get_dataloaders(\n",
    "    root = './data',\n",
    "    S = yolov1.S, B = yolov1.B,\n",
    "    batch_size = BATCH_SIZE,\n",
    "    num_workers = NUM_WORKERS\n",
    ")"
   ]
  },
  {
   "cell_type": "markdown",
   "metadata": {
    "id": "g1Hy_B9udwkn"
   },
   "source": [
    "# Loss Function, Optimizer, Scheduler"
   ]
  },
  {
   "cell_type": "code",
   "execution_count": 4,
   "metadata": {
    "executionInfo": {
     "elapsed": 4,
     "status": "ok",
     "timestamp": 1748851615838,
     "user": {
      "displayName": "Jeff Chen",
      "userId": "00200476813761072778"
     },
     "user_tz": 420
    },
    "id": "Lf8TjyETdzuq"
   },
   "outputs": [],
   "source": [
    "# Loss Function Configs\n",
    "LAMBDA_COORD = 5\n",
    "LAMBDA_NOOBJ = 0.5\n",
    "\n",
    "# Optimizer Configs\n",
    "LEARNING_RATE = 2.5e-3\n",
    "MOMENTUM = 0.9\n",
    "WEIGHT_DECAY = 5e-4\n",
    "\n",
    "# LR Scheduler Configs\n",
    "GAMMA = 0.2\n",
    "MILESTONES = [75, 105]\n",
    "PRE_WARMUP_LRS = [1e-3]\n",
    "WARMUP_EPOCHS = 0\n",
    "\n",
    "# Make loss_function, optimizer, scheduler\n",
    "loss_fn = loss.YOLOv1Loss(S = yolov1.S, B = yolov1.B, C = yolov1.C,\n",
    "                          lambda_coord = LAMBDA_COORD,\n",
    "                          lambda_noobj = LAMBDA_NOOBJ,\n",
    "                          reduction = 'mean')\n",
    "\n",
    "optimizer = torch.optim.SGD(params = yolov1.parameters(),\n",
    "                            lr = LEARNING_RATE,\n",
    "                            momentum = MOMENTUM,\n",
    "                            weight_decay = WEIGHT_DECAY)\n",
    "\n",
    "scheduler = engine.WarmupMultiStepLR(optimizer,\n",
    "                                     pre_warmup_lrs = PRE_WARMUP_LRS,\n",
    "                                     milestones = MILESTONES,\n",
    "                                     warmup_epochs = WARMUP_EPOCHS,\n",
    "                                     gamma = GAMMA)"
   ]
  },
  {
   "cell_type": "markdown",
   "metadata": {
    "id": "bKhKK7uWeROA"
   },
   "source": [
    "# Training-Eval and Checkpoint Configurations"
   ]
  },
  {
   "cell_type": "code",
   "execution_count": 5,
   "metadata": {
    "executionInfo": {
     "elapsed": 2,
     "status": "ok",
     "timestamp": 1748851617631,
     "user": {
      "displayName": "Jeff Chen",
      "userId": "00200476813761072778"
     },
     "user_tz": 420
    },
    "id": "nWa2ifdzeT2e"
   },
   "outputs": [],
   "source": [
    "# Training/Evaluation Configs\n",
    "te_cfgs = engine.TrainEvalConfigs(\n",
    "    num_epochs = 150,\n",
    "    accum_steps = int(ACCUM_BATCH_SIZE / BATCH_SIZE), # Simulates batch size of 64\n",
    "    eval_intervals = 5,\n",
    "    obj_threshold = 0.2,\n",
    "    nms_threshold = 0.5,\n",
    "    map_thresholds = [0.5]\n",
    ")\n",
    "\n",
    "ckpt_cfgs = engine.CheckpointConfigs(\n",
    "    save_dir = './saved_checkpoints',\n",
    "    checkpoint_name = 'yolov1_checkpoint.pth',\n",
    "    ignore_exists = False,\n",
    "    resume = False, # Training from scratch\n",
    "    resume_path = None\n",
    ")"
   ]
  },
  {
   "cell_type": "markdown",
   "metadata": {
    "id": "bZcZWJ0eeh3q"
   },
   "source": [
    "# Run Training\n",
    "Note: This cell seems to crash to first time it is ran.\n",
    "      After restarting the session and rerunning, everything works fine."
   ]
  },
  {
   "cell_type": "code",
   "execution_count": 6,
   "metadata": {
    "colab": {
     "base_uri": "https://localhost:8080/"
    },
    "executionInfo": {
     "elapsed": 1873621,
     "status": "ok",
     "timestamp": 1748853493980,
     "user": {
      "displayName": "Jeff Chen",
      "userId": "00200476813761072778"
     },
     "user_tz": 420
    },
    "id": "hLszQdF_ejH0",
    "outputId": "969a0ac9-3f60-4544-b28e-358a2fe20941"
   },
   "outputs": [
    {
     "name": "stdout",
     "output_type": "stream",
     "text": [
      "\u001b[1m[NOTE]\u001b[0m Checkpoints will be saved to ./saved_checkpoints/yolov1_checkpoint.pth.\n",
      "\u001b[1m[NOTE]\u001b[0m Successfully loaded checkpoint at ./drive/MyDrive/yolov1-pytorch/saved_checkpoints/yolov1_checkpoint_135.pth. Resuming training from epoch 135.\n",
      "\n",
      "\u001b[1m[EPOCH 135 | Train Loss  ]\u001b[0m Total: 0.8411  | Class: 0.1701  | Local: 0.1034  | ObjConf: 0.0961  | NoObjConf: 0.1157  | \n",
      "\u001b[1m[EPOCH 135 | Val Loss    ]\u001b[0m Total: 1.8253  | Class: 0.4107  | Local: 0.2338  | ObjConf: 0.1384  | NoObjConf: 0.2144  | \n",
      "\u001b[1m[EPOCH 135 | Val Metrics ]\u001b[0m mAP: 0.5612\n",
      "\u001b[1m[EPOCH 135 | Time        ]\u001b[0m Train: 103.33 sec  | Val: 32.20 sec  \n",
      "\n",
      "\u001b[1m[EPOCH 136 | Train Loss  ]\u001b[0m Total: 0.8499  | Class: 0.1716  | Local: 0.1043  | ObjConf: 0.0970  | NoObjConf: 0.1198  | \n",
      "\u001b[1m[EPOCH 136 | Val Loss    ]\u001b[0m Total: 1.8290  | Class: 0.4125  | Local: 0.2333  | ObjConf: 0.1390  | NoObjConf: 0.2218  | \n",
      "\u001b[1m[EPOCH 136 | Time        ]\u001b[0m Train: 100.29 sec  | Val: 14.06 sec  \n",
      "\n",
      "\u001b[1m[EPOCH 137 | Train Loss  ]\u001b[0m Total: 0.8381  | Class: 0.1714  | Local: 0.1018  | ObjConf: 0.0977  | NoObjConf: 0.1200  | \n",
      "\u001b[1m[EPOCH 137 | Val Loss    ]\u001b[0m Total: 1.8284  | Class: 0.4116  | Local: 0.2335  | ObjConf: 0.1397  | NoObjConf: 0.2195  | \n",
      "\u001b[1m[EPOCH 137 | Time        ]\u001b[0m Train: 100.22 sec  | Val: 14.02 sec  \n",
      "\n",
      "\u001b[1m[EPOCH 138 | Train Loss  ]\u001b[0m Total: 0.8340  | Class: 0.1706  | Local: 0.1019  | ObjConf: 0.0959  | NoObjConf: 0.1159  | \n",
      "\u001b[1m[EPOCH 138 | Val Loss    ]\u001b[0m Total: 1.8179  | Class: 0.4077  | Local: 0.2343  | ObjConf: 0.1362  | NoObjConf: 0.2050  | \n",
      "\u001b[1m[EPOCH 138 | Time        ]\u001b[0m Train: 100.15 sec  | Val: 13.69 sec  \n",
      "\n",
      "\u001b[1m[EPOCH 139 | Train Loss  ]\u001b[0m Total: 0.8412  | Class: 0.1751  | Local: 0.1022  | ObjConf: 0.0955  | NoObjConf: 0.1195  | \n",
      "\u001b[1m[EPOCH 139 | Val Loss    ]\u001b[0m Total: 1.8241  | Class: 0.4117  | Local: 0.2339  | ObjConf: 0.1368  | NoObjConf: 0.2117  | \n",
      "\u001b[1m[EPOCH 139 | Time        ]\u001b[0m Train: 100.22 sec  | Val: 13.64 sec  \n",
      "\n",
      "\u001b[1m[EPOCH 140 | Train Loss  ]\u001b[0m Total: 0.8430  | Class: 0.1715  | Local: 0.1035  | ObjConf: 0.0956  | NoObjConf: 0.1170  | \n",
      "\u001b[1m[EPOCH 140 | Val Loss    ]\u001b[0m Total: 1.8281  | Class: 0.4122  | Local: 0.2344  | ObjConf: 0.1402  | NoObjConf: 0.2073  | \n",
      "\u001b[1m[EPOCH 140 | Val Metrics ]\u001b[0m mAP: 0.5609\n",
      "\u001b[1m[EPOCH 140 | Time        ]\u001b[0m Train: 99.90 sec   | Val: 31.61 sec  \n",
      "\n",
      "\u001b[1m[EPOCH 141 | Train Loss  ]\u001b[0m Total: 0.8458  | Class: 0.1718  | Local: 0.1036  | ObjConf: 0.0967  | NoObjConf: 0.1186  | \n",
      "\u001b[1m[EPOCH 141 | Val Loss    ]\u001b[0m Total: 1.8313  | Class: 0.4120  | Local: 0.2339  | ObjConf: 0.1416  | NoObjConf: 0.2160  | \n",
      "\u001b[1m[EPOCH 141 | Time        ]\u001b[0m Train: 100.41 sec  | Val: 13.81 sec  \n",
      "\n",
      "\u001b[1m[EPOCH 142 | Train Loss  ]\u001b[0m Total: 0.8508  | Class: 0.1729  | Local: 0.1045  | ObjConf: 0.0967  | NoObjConf: 0.1173  | \n",
      "\u001b[1m[EPOCH 142 | Val Loss    ]\u001b[0m Total: 1.8273  | Class: 0.4121  | Local: 0.2340  | ObjConf: 0.1412  | NoObjConf: 0.2085  | \n",
      "\u001b[1m[EPOCH 142 | Time        ]\u001b[0m Train: 100.23 sec  | Val: 13.98 sec  \n",
      "\n",
      "\u001b[1m[EPOCH 143 | Train Loss  ]\u001b[0m Total: 0.8348  | Class: 0.1703  | Local: 0.1022  | ObjConf: 0.0952  | NoObjConf: 0.1167  | \n",
      "\u001b[1m[EPOCH 143 | Val Loss    ]\u001b[0m Total: 1.8319  | Class: 0.4125  | Local: 0.2346  | ObjConf: 0.1434  | NoObjConf: 0.2056  | \n",
      "\u001b[1m[EPOCH 143 | Time        ]\u001b[0m Train: 100.35 sec  | Val: 13.88 sec  \n",
      "\n",
      "\u001b[1m[EPOCH 144 | Train Loss  ]\u001b[0m Total: 0.8348  | Class: 0.1673  | Local: 0.1029  | ObjConf: 0.0950  | NoObjConf: 0.1167  | \n",
      "\u001b[1m[EPOCH 144 | Val Loss    ]\u001b[0m Total: 1.8190  | Class: 0.4097  | Local: 0.2320  | ObjConf: 0.1388  | NoObjConf: 0.2208  | \n",
      "\u001b[1m[EPOCH 144 | Time        ]\u001b[0m Train: 100.48 sec  | Val: 13.78 sec  \n",
      "\n",
      "\u001b[1m[EPOCH 145 | Train Loss  ]\u001b[0m Total: 0.8395  | Class: 0.1722  | Local: 0.1027  | ObjConf: 0.0955  | NoObjConf: 0.1164  | \n",
      "\u001b[1m[EPOCH 145 | Val Loss    ]\u001b[0m Total: 1.8221  | Class: 0.4111  | Local: 0.2333  | ObjConf: 0.1404  | NoObjConf: 0.2085  | \n",
      "\u001b[1m[EPOCH 145 | Val Metrics ]\u001b[0m mAP: 0.5629\n",
      "\u001b[1m[EPOCH 145 | Time        ]\u001b[0m Train: 100.45 sec  | Val: 31.74 sec  \n",
      "\n",
      "\u001b[1m[EPOCH 146 | Train Loss  ]\u001b[0m Total: 0.8365  | Class: 0.1684  | Local: 0.1028  | ObjConf: 0.0955  | NoObjConf: 0.1167  | \n",
      "\u001b[1m[EPOCH 146 | Val Loss    ]\u001b[0m Total: 1.8300  | Class: 0.4107  | Local: 0.2366  | ObjConf: 0.1359  | NoObjConf: 0.2008  | \n",
      "\u001b[1m[EPOCH 146 | Time        ]\u001b[0m Train: 100.25 sec  | Val: 13.75 sec  \n",
      "\n",
      "\u001b[1m[EPOCH 147 | Train Loss  ]\u001b[0m Total: 0.8375  | Class: 0.1711  | Local: 0.1026  | ObjConf: 0.0954  | NoObjConf: 0.1156  | \n",
      "\u001b[1m[EPOCH 147 | Val Loss    ]\u001b[0m Total: 1.8297  | Class: 0.4119  | Local: 0.2342  | ObjConf: 0.1414  | NoObjConf: 0.2110  | \n",
      "\u001b[1m[EPOCH 147 | Time        ]\u001b[0m Train: 100.34 sec  | Val: 14.00 sec  \n",
      "\n",
      "\u001b[1m[EPOCH 148 | Train Loss  ]\u001b[0m Total: 0.8362  | Class: 0.1714  | Local: 0.1022  | ObjConf: 0.0954  | NoObjConf: 0.1163  | \n",
      "\u001b[1m[EPOCH 148 | Val Loss    ]\u001b[0m Total: 1.8248  | Class: 0.4096  | Local: 0.2342  | ObjConf: 0.1385  | NoObjConf: 0.2111  | \n",
      "\u001b[1m[EPOCH 148 | Time        ]\u001b[0m Train: 100.16 sec  | Val: 14.04 sec  \n",
      "\n",
      "\u001b[1m[EPOCH 149 | Train Loss  ]\u001b[0m Total: 0.8321  | Class: 0.1674  | Local: 0.1024  | ObjConf: 0.0952  | NoObjConf: 0.1152  | \n",
      "\u001b[1m[EPOCH 149 | Val Loss    ]\u001b[0m Total: 1.8182  | Class: 0.4094  | Local: 0.2322  | ObjConf: 0.1400  | NoObjConf: 0.2152  | \n",
      "\u001b[1m[EPOCH 149 | Val Metrics ]\u001b[0m mAP: 0.5691\n",
      "\u001b[1m[EPOCH 149 | Time        ]\u001b[0m Train: 100.46 sec  | Val: 31.70 sec  \n",
      "\n"
     ]
    }
   ],
   "source": [
    "# Note: The current displayed outputs are from a resumed training session (trained up to epoch 150).\n",
    "      # However, this code trains from scratch with `resume = False`\n",
    "\n",
    "# Note: This was trained on a Google Colab A100 GPU\n",
    "train_losses, val_losses, eval_history = engine.train(model = yolov1,\n",
    "                                                      train_loader = train_loader,\n",
    "                                                      val_loader = val_loader,\n",
    "                                                      loss_fn = loss_fn,\n",
    "                                                      optimizer = optimizer,\n",
    "                                                      scheduler = scheduler,\n",
    "                                                      te_cfgs = te_cfgs,\n",
    "                                                      ckpt_cfgs = ckpt_cfgs,\n",
    "                                                      device = constants.DEVICE)"
   ]
  },
  {
   "cell_type": "markdown",
   "metadata": {
    "id": "FiB7fYU7hstc"
   },
   "source": [
    "# Plotting Result"
   ]
  },
  {
   "cell_type": "code",
   "execution_count": 21,
   "metadata": {
    "colab": {
     "base_uri": "https://localhost:8080/",
     "height": 635
    },
    "executionInfo": {
     "elapsed": 2652,
     "status": "ok",
     "timestamp": 1748853939430,
     "user": {
      "displayName": "Jeff Chen",
      "userId": "00200476813761072778"
     },
     "user_tz": 420
    },
    "id": "5FHYT4NJhsU_",
    "outputId": "cf99de8c-c3e8-4362-9396-33f9044203c6"
   },
   "outputs": [
    {
     "name": "stdout",
     "output_type": "stream",
     "text": [
      "Final mAP: 0.5690679550170898\n"
     ]
    },
    {
     "data": {
      "image/png": "[encoded data removed]",
      "text/plain": [
       "<Figure size 1600x800 with 2 Axes>"
      ]
     },
     "execution_count": 21,
     "metadata": {},
     "output_type": "execute_result"
    }
   ],
   "source": [
    "# Load checkpoint\n",
    "checkpoint = torch.load(ckpt_cfgs.save_path, map_location = constants.DEVICE)\n",
    "\n",
    "# Create checkpoint model\n",
    "ckpt_backbone = models.build_resnet50_backbone()\n",
    "ckpt_yolov1 = models.YOLOv1(backbone = ckpt_backbone,\n",
    "                       S = S, B = B, C = C,\n",
    "                       drop_prob = DROP_PROB,\n",
    "                       include_bn = INCLUDE_BN)\n",
    "ckpt_yolov1 = ckpt_yolov1.to(constants.DEVICE)\n",
    "ckpt_yolov1.load_state_dict(checkpoint['model'])\n",
    "# ckpt_yolov1 = torch.compile(ckpt_yolov1)\n",
    "\n",
    "# Plot losses and eval metrics from training\n",
    "train_losses = checkpoint['train_losses']\n",
    "val_losses = checkpoint['val_losses']\n",
    "\n",
    "eval_history = checkpoint['eval_history']\n",
    "map_scores = [eval_history[key]['map'] for key in eval_history]\n",
    "print(f'Final mAP: {map_scores[-1]}')\n",
    "\n",
    "plot.plot_results(train_losses, val_losses, eval_history,\n",
    "                  loss_key = 'total', eval_key = 'map')"
   ]
  },
  {
   "cell_type": "markdown",
   "metadata": {
    "id": "kxIWIB5Jhl3w"
   },
   "source": [
    "# Mean Average Precision"
   ]
  },
  {
   "cell_type": "code",
   "execution_count": 26,
   "metadata": {
    "colab": {
     "base_uri": "https://localhost:8080/"
    },
    "executionInfo": {
     "elapsed": 31892,
     "status": "ok",
     "timestamp": 1748854075641,
     "user": {
      "displayName": "Jeff Chen",
      "userId": "00200476813761072778"
     },
     "user_tz": 420
    },
    "id": "rDBZCO06ht7D",
    "outputId": "5d3610d3-28e8-44b7-e354-664b25747330"
   },
   "outputs": [
    {
     "data": {
      "text/plain": [
       "{'map': tensor(0.5691),\n",
       " 'map_50': tensor(0.5691),\n",
       " 'map_75': tensor(-1.),\n",
       " 'map_small': tensor(0.5691),\n",
       " 'map_medium': tensor(-1.),\n",
       " 'map_large': tensor(-1.),\n",
       " 'mar_1': tensor(0.4806),\n",
       " 'mar_10': tensor(0.6122),\n",
       " 'mar_100': tensor(0.6130),\n",
       " 'mar_small': tensor(0.6130),\n",
       " 'mar_medium': tensor(-1.),\n",
       " 'mar_large': tensor(-1.),\n",
       " 'map_per_class': tensor([0.5415, 0.6040, 0.8189, 0.5979, 0.7866, 0.7405, 0.5848, 0.6937, 0.6669,\n",
       "         0.3605, 0.6589, 0.5980, 0.6914, 0.7580, 0.2181, 0.2840, 0.4544, 0.2537,\n",
       "         0.4769, 0.5927]),\n",
       " 'mar_100_per_class': tensor([0.6023, 0.6384, 0.8482, 0.6569, 0.8298, 0.7613, 0.6209, 0.7088, 0.6901,\n",
       "         0.4176, 0.6802, 0.6213, 0.7213, 0.7815, 0.2825, 0.3693, 0.5192, 0.3154,\n",
       "         0.5745, 0.6211]),\n",
       " 'classes': tensor([ 0,  1,  2,  3,  4,  5,  6,  7,  8,  9, 10, 11, 12, 13, 14, 15, 16, 17,\n",
       "         18, 19], dtype=torch.int32)}"
      ]
     },
     "execution_count": 26,
     "metadata": {},
     "output_type": "execute_result"
    }
   ],
   "source": [
    "# Compute mAP and mAR metrics on validation dataset\n",
    "  # This will change a lot depending on `obj_threshold`, `nms_threshold`, and `map_thresholds`\n",
    "  # I don't think the original paper reported what values they used for these\n",
    "evaluate.calc_dataset_map(model = ckpt_yolov1,\n",
    "                          dataloader = val_loader,\n",
    "                          obj_threshold = 0.2,\n",
    "                          nms_threshold = 0.5,\n",
    "                          map_thresholds = [0.5],\n",
    "                          device = constants.DEVICE)"
   ]
  },
  {
   "cell_type": "markdown",
   "metadata": {
    "id": "t3IVXnhXhuND"
   },
   "source": [
    "# Predictions"
   ]
  },
  {
   "cell_type": "code",
   "execution_count": 28,
   "metadata": {
    "colab": {
     "base_uri": "https://localhost:8080/",
     "height": 1000,
     "output_embedded_package_id": "1y8vZm8HY84EetenF7NBX6o9p9uBCfcVN"
    },
    "executionInfo": {
     "elapsed": 3204,
     "status": "ok",
     "timestamp": 1748854121996,
     "user": {
      "displayName": "Jeff Chen",
      "userId": "00200476813761072778"
     },
     "user_tz": 420
    },
    "id": "EHtKiPwXhvIP",
    "outputId": "344e658e-9cdf-4984-8f7c-2416338144ab",
    "scrolled": true
   },
   "outputs": [
    {
     "data": {
      "text/plain": [
       "Output hidden; open in https://colab.research.google.com to view."
      ]
     },
     "metadata": {},
     "output_type": "display_data"
    }
   ],
   "source": [
    "# Prediction Configs\n",
    "OBJ_THRESHOLD = 0.2\n",
    "NMS_THRESHOLD = 0.4\n",
    "\n",
    "IMG_RESIZE = (448, 448)\n",
    "\n",
    "SHOW_SCORES = True\n",
    "SHOW_PROBS = False\n",
    "\n",
    "NUM_SAMPLES = 3\n",
    "\n",
    "# Plotting Predictions\n",
    "val_dataset = val_loader.dataset\n",
    "transforms = data_setup.get_transforms(train = False)\n",
    "sample_idxs = random.sample(range(len(val_dataset)), NUM_SAMPLES)\n",
    "\n",
    "for i in sample_idxs:\n",
    "    img = val_dataset.get_img(i)\n",
    "\n",
    "    fig = plot.draw_preds_yolov1(ckpt_yolov1, img, transforms,\n",
    "                                 OBJ_THRESHOLD, NMS_THRESHOLD,\n",
    "                                 IMG_RESIZE,\n",
    "                                 SHOW_SCORES, SHOW_PROBS,\n",
    "                                 device = constants.DEVICE)\n",
    "    display(fig)"
   ]
  },
  {
   "cell_type": "markdown",
   "metadata": {
    "id": "y4uo5G-y06bN"
   },
   "source": [
    "# Downloading Checkpoint"
   ]
  },
  {
   "cell_type": "code",
   "execution_count": 1,
   "metadata": {
    "ExecuteTime": {
     "end_time": "2025-06-02T17:56:54.378376Z",
     "start_time": "2025-06-02T17:56:54.369896Z"
    },
    "colab": {
     "base_uri": "https://localhost:8080/",
     "height": 17
    },
    "executionInfo": {
     "elapsed": 5,
     "status": "ok",
     "timestamp": 1748854130020,
     "user": {
      "displayName": "Jeff Chen",
      "userId": "00200476813761072778"
     },
     "user_tz": 420
    },
    "id": "UHOuQ-cd08fw",
    "outputId": "0ae0aa6e-d47f-416d-c93c-f4146431893e"
   },
   "outputs": [],
   "source": [
    "# from google.colab import files\n",
    "\n",
    "# # Replace with your file path\n",
    "# files.download('./saved_checkpoints/yolov1_checkpoint.pth')"
   ]
  }
 ],
 "metadata": {
  "accelerator": "GPU",
  "colab": {
   "authorship_tag": "ABX9TyMmTICtsKocAxrQOSMxrfQr",
   "gpuType": "A100",
   "machine_shape": "hm",
   "mount_file_id": "1b9MvNM1zpNsI2l1FrhBnmnyQ5jv4qFxT",
   "provenance": []
  },
  "kernelspec": {
   "display_name": "Python 3 (ipykernel)",
   "language": "python",
   "name": "python3"
  },
  "language_info": {
   "codemirror_mode": {
    "name": "ipython",
    "version": 3
   },
   "file_extension": ".py",
   "mimetype": "text/x-python",
   "name": "python",
   "nbconvert_exporter": "python",
   "pygments_lexer": "ipython3",
   "version": "3.13.3"
  }
 },
 "nbformat": 4,
 "nbformat_minor": 1
}
